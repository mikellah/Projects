{
 "cells": [
  {
   "cell_type": "code",
<<<<<<< HEAD
   "execution_count": 5,
=======
   "execution_count": 22,
>>>>>>> DT2
   "metadata": {},
   "outputs": [],
   "source": [
    "#import needed packages\n",
    "import pandas as pd\n",
    "import numpy as np #just in case"
   ]
  },
  {
   "cell_type": "code",
<<<<<<< HEAD
   "execution_count": 6,
=======
   "execution_count": 23,
>>>>>>> DT2
   "metadata": {},
   "outputs": [
    {
     "name": "stdout",
     "output_type": "stream",
     "text": [
      "1.5.3\n"
     ]
    }
   ],
   "source": [
    "print(pd.__version__) #check if pandas is okay"
   ]
  },
  {
   "cell_type": "code",
<<<<<<< HEAD
   "execution_count": 12,
=======
   "execution_count": 24,
>>>>>>> DT2
   "metadata": {},
   "outputs": [],
   "source": [
    "#Start scraping websites\n",
    "website=\"https://en.wikipedia.org/wiki/List_of_companies_of_Romania\" #for Romanian websites\n",
    "dfs = pd.read_html(website)\n",
    "df=dfs[0]"
   ]
  },
  {
   "cell_type": "code",
<<<<<<< HEAD
   "execution_count": 8,
=======
   "execution_count": 25,
>>>>>>> DT2
   "metadata": {},
   "outputs": [],
   "source": [
    "df.to_excel(\"output.xlsx\") #in case we want the data in an Excel file"
   ]
  },
  {
   "cell_type": "code",
<<<<<<< HEAD
   "execution_count": 13,
=======
   "execution_count": 26,
>>>>>>> DT2
   "metadata": {},
   "outputs": [
    {
     "name": "stdout",
     "output_type": "stream",
     "text": [
<<<<<<< HEAD
      "Bucharest\n"
=======
      "Consumer services\n"
>>>>>>> DT2
     ]
    }
   ],
   "source": [
<<<<<<< HEAD
    "#Most popular city for headquarters in Romania \n",
    "#Most frequent value in a pandas column can be found like this:\n",
    "df2=df['Headquarters'].value_counts().idxmax()\n",
=======
    "#Most popular industry for companies\n",
    "df2=df['Industry'].value_counts().idxmax()\n",
>>>>>>> DT2
    "print(df2)"
   ]
  }
 ],
 "metadata": {
  "kernelspec": {
   "display_name": "Python 3",
   "language": "python",
   "name": "python3"
  },
  "language_info": {
   "codemirror_mode": {
    "name": "ipython",
    "version": 3
   },
   "file_extension": ".py",
   "mimetype": "text/x-python",
   "name": "python",
   "nbconvert_exporter": "python",
   "pygments_lexer": "ipython3",
   "version": "3.10.8"
  },
  "orig_nbformat": 4,
  "vscode": {
   "interpreter": {
    "hash": "e7370f93d1d0cde622a1f8e1c04877d8463912d04d973331ad4851f04de6915a"
   }
  }
 },
 "nbformat": 4,
 "nbformat_minor": 2
}
